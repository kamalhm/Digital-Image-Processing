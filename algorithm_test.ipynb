{
 "cells": [
  {
   "cell_type": "code",
   "execution_count": 5,
   "metadata": {},
   "outputs": [],
   "source": [
    "import numpy as np\n",
    "from PIL import Image\n",
    "from collections import Counter\n",
    "import matplotlib.pyplot as plt"
   ]
  },
  {
   "cell_type": "code",
   "execution_count": 11,
   "metadata": {},
   "outputs": [
    {
     "data": {
      "image/png": "[encoded data removed]",
      "text/plain": [
       "<Figure size 432x288 with 1 Axes>"
      ]
     },
     "metadata": {},
     "output_type": "display_data"
    }
   ],
   "source": [
    "img = Image.open(\"static/img/cing.jpg\")\n",
    "img_arr = np.asarray(img)\n",
    "r = img_arr[:, :, 0].flatten()\n",
    "g = img_arr[:, :, 1].flatten()\n",
    "b = img_arr[:, :, 2].flatten()\n",
    "data_r = Counter(r)\n",
    "data_g = Counter(g)\n",
    "data_b = Counter(b)\n",
    "data_rgb = [data_r, data_g, data_b]\n",
    "warna = ['red','green','blue']\n",
    "data_hist = list(zip(warna,data_rgb))\n",
    "# for data in data_rgb:\n",
    "#     plt.bar(list(data.keys()), data.values(), color='b')\n",
    "#     plt.savefig('red_histogram.jpg', dpi=300)\n",
    "for data in data_hist:\n",
    "    plt.bar(list(data[1].keys()), data[1].values(), color=f'{data[0]}')\n",
    "    plt.savefig(f'static/img/{data[0]}_histogram.jpg', dpi=300)\n",
    "plt.savefig(f'static/img/rgb_histogram.jpg', dpi=300)"
   ]
  },
  {
   "cell_type": "code",
   "execution_count": null,
   "metadata": {},
   "outputs": [],
   "source": [
    "img = Image.open(\"static/img/cing.png\")"
   ]
  },
  {
   "cell_type": "code",
   "execution_count": null,
   "metadata": {},
   "outputs": [],
   "source": [
    "img"
   ]
  },
  {
   "cell_type": "code",
   "execution_count": null,
   "metadata": {},
   "outputs": [],
   "source": [
    "img_arr = np.asarray(img)"
   ]
  },
  {
   "cell_type": "code",
   "execution_count": null,
   "metadata": {},
   "outputs": [],
   "source": [
    "img_arr"
   ]
  },
  {
   "cell_type": "code",
   "execution_count": null,
   "metadata": {},
   "outputs": [],
   "source": [
    "r = img_arr[:, :, 0].flatten()\n",
    "g = img_arr[:, :, 1].flatten()\n",
    "b = img_arr[:, :, 2].flatten()\n",
    "r"
   ]
  },
  {
   "cell_type": "code",
   "execution_count": null,
   "metadata": {},
   "outputs": [],
   "source": [
    "# r = r.flatten()\n",
    "# g = g.flatten()\n",
    "# b = b.flatten()\n",
    "len(r)"
   ]
  },
  {
   "cell_type": "code",
   "execution_count": null,
   "metadata": {},
   "outputs": [],
   "source": [
    "from collections import Counter\n",
    "data_r = Counter(r)\n",
    "data_g = Counter(g)\n",
    "data_b = Counter(b)\n",
    "data_rgb = [data_r, data_g, data_b]\n",
    "color = ['red', 'green', 'blue']\n",
    "data_d = [[1,2,3],[4,5,6],[7,8,9]]\n",
    "data_hist = list(zip(color,data_rgb))"
   ]
  },
  {
   "cell_type": "code",
   "execution_count": null,
   "metadata": {},
   "outputs": [],
   "source": [
    "for data in data_hist:\n",
    "    print(data[1])"
   ]
  },
  {
   "cell_type": "code",
   "execution_count": null,
   "metadata": {},
   "outputs": [],
   "source": [
    "# data_hist[0][0]\n",
    "data_hist[0]"
   ]
  },
  {
   "cell_type": "code",
   "execution_count": null,
   "metadata": {},
   "outputs": [],
   "source": [
    "# for data in data_hist:\n",
    "#     print(data)\n",
    "# print(data_hist[0])\n",
    "for i in range(2):\n",
    "    for j in range(2):\n",
    "        print(data_hist[i][j])"
   ]
  },
  {
   "cell_type": "code",
   "execution_count": null,
   "metadata": {},
   "outputs": [],
   "source": [
    "for data in data_d:\n",
    "    for c in color:\n",
    "        print(data,c)"
   ]
  },
  {
   "cell_type": "code",
   "execution_count": null,
   "metadata": {},
   "outputs": [],
   "source": [
    "for c in color:\n",
    "    for data in data_d:\n",
    "        print(data,c)"
   ]
  },
  {
   "cell_type": "code",
   "execution_count": null,
   "metadata": {},
   "outputs": [],
   "source": [
    "z = zip(color,data_d)\n",
    "for each in z:\n",
    "    print(each)"
   ]
  },
  {
   "cell_type": "code",
   "execution_count": null,
   "metadata": {},
   "outputs": [],
   "source": [
    "data_rgb"
   ]
  },
  {
   "cell_type": "code",
   "execution_count": null,
   "metadata": {},
   "outputs": [],
   "source": [
    "# for data,idx in data_rgb:\n",
    "#     print(idx)\n",
    "enumerate(data_rgb)"
   ]
  },
  {
   "cell_type": "code",
   "execution_count": null,
   "metadata": {},
   "outputs": [],
   "source": [
    "import matplotlib.pyplot as plt\n",
    "from pylab import savefig\n",
    "plt.bar(list(data_r.keys()), data_r.values(), color='b')\n",
    "plt.savefig('red_histogram.jpg', dpi=300)\n",
    "plt.show()"
   ]
  },
  {
   "cell_type": "code",
   "execution_count": null,
   "metadata": {},
   "outputs": [],
   "source": []
  }
 ],
 "metadata": {
  "kernelspec": {
   "display_name": "Python 3",
   "language": "python",
   "name": "python3"
  },
  "language_info": {
   "codemirror_mode": {
    "name": "ipython",
    "version": 3
   },
   "file_extension": ".py",
   "mimetype": "text/x-python",
   "name": "python",
   "nbconvert_exporter": "python",
   "pygments_lexer": "ipython3",
   "version": "3.6.5"
  }
 },
 "nbformat": 4,
 "nbformat_minor": 2
}
