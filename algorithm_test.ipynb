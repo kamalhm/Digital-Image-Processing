{
 "cells": [
  {
   "cell_type": "code",
   "execution_count": 19,
   "metadata": {},
   "outputs": [],
   "source": [
    "import numpy as np\n",
    "from PIL import Image\n",
    "from collections import Counter\n",
    "import matplotlib.pyplot as plt\n",
    "import cv2"
   ]
  },
  {
   "cell_type": "code",
   "execution_count": 30,
   "metadata": {},
   "outputs": [],
   "source": [
    "img = cv2.imread('static\\img\\overexpose.jpg',0)"
   ]
  },
  {
   "cell_type": "code",
   "execution_count": null,
   "metadata": {},
   "outputs": [],
   "source": []
  },
  {
   "cell_type": "code",
   "execution_count": 25,
   "metadata": {},
   "outputs": [],
   "source": [
    "row, col = img.shape[:2]"
   ]
  },
  {
   "cell_type": "code",
   "execution_count": 26,
   "metadata": {},
   "outputs": [],
   "source": [
    "def df(img):  # to make a histogram (count distribution frequency)\n",
    "    values = [0]*256\n",
    "    for i in range(img.shape[0]):\n",
    "        for j in range(img.shape[1]):\n",
    "            values[img[i,j]]+=1\n",
    "    return values\n",
    "\n",
    "\n",
    "def cdf(hist):  # cumulative distribution frequency\n",
    "    cdf = [0] * len(hist)   #len(hist) is 256\n",
    "    cdf[0] = hist[0]\n",
    "    for i in range(1, len(hist)):\n",
    "        cdf[i]= cdf[i-1]+hist[i]\n",
    "    # Now we normalize the histogram\n",
    "    cdf = [ele*255/cdf[-1] for ele in cdf]      # What your function h was doing before\n",
    "    return cdf\n",
    "\n",
    "def histogram_equalizer():\n",
    "    img = cv2.imread('static\\img\\img_default.jpg',0) \n",
    "    my_cdf = cdf(df(img))\n",
    "    # use linear interpolation of cdf to find new pixel values. Scipy alternative exists\n",
    "    import numpy as np\n",
    "    image_equalized = np.interp(image, range(0,256), my_cdf)\n",
    "    cv2.imwrite('static\\img\\img_equalized.jpg', image_equalized)\n"
   ]
  },
  {
   "cell_type": "code",
   "execution_count": 29,
   "metadata": {},
   "outputs": [
    {
     "data": {
      "text/plain": [
       "True"
      ]
     },
     "execution_count": 29,
     "metadata": {},
     "output_type": "execute_result"
    }
   ],
   "source": [
    "eq = equalize_image(img)\n",
    "\n",
    "cv2.imwrite('static\\img\\equ.jpg', eq)"
   ]
  }
 ],
 "metadata": {
  "kernelspec": {
   "display_name": "Python 3",
   "language": "python",
   "name": "python3"
  },
  "language_info": {
   "codemirror_mode": {
    "name": "ipython",
    "version": 3
   },
   "file_extension": ".py",
   "mimetype": "text/x-python",
   "name": "python",
   "nbconvert_exporter": "python",
   "pygments_lexer": "ipython3",
   "version": "3.6.5"
  }
 },
 "nbformat": 4,
 "nbformat_minor": 2
}
